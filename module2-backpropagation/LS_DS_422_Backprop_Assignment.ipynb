{
 "cells": [
  {
   "cell_type": "markdown",
   "metadata": {
    "colab_type": "text",
    "id": "NGGrt9EYlCqY"
   },
   "source": [
    "<img align=\"left\" src=\"https://lever-client-logos.s3.amazonaws.com/864372b1-534c-480e-acd5-9711f850815c-1524247202159.png\" width=200>\n",
    "<br></br>\n",
    "\n",
    "# Backpropagation Practice\n",
    "\n",
    "## *Data Science Unit 4 Sprint 2 Assignment 2*\n",
    "\n",
    "Implement a 3 input, 4 node hidden-layer, 1 output node Multilayer Perceptron on the following dataset:\n",
    "\n",
    "| x1 | x2 | x3 | y |\n",
    "|----|----|----|---|\n",
    "| 0  | 0  | 1  | 0 |\n",
    "| 0  | 1  | 1  | 1 |\n",
    "| 1  | 0  | 1  | 1 |\n",
    "| 0  | 1  | 0  | 1 |\n",
    "| 1  | 0  | 0  | 1 |\n",
    "| 1  | 1  | 1  | 0 |\n",
    "| 0  | 0  | 0  | 0 |\n",
    "\n",
    "If you look at the data you'll notice that the first two columns behave like an XOR gate while the last column is mostly just noise. Remember that creating an XOR gate was what the perceptron was criticized for not being able to learn. "
   ]
  },
  {
   "cell_type": "code",
   "execution_count": 1,
   "metadata": {},
   "outputs": [],
   "source": [
    "##### Your Code Here #####\n",
    "import numpy as np\n",
    "import pandas as pd\n",
    ""
   ]
  },
  {
   "cell_type": "code",
   "execution_count": 2,
   "metadata": {},
   "outputs": [],
   "source": [
    "features = np.array((\n",
    "                    [0,0,1],\n",
    "                    [0,1,1],\n",
    "                    [1,0,1],\n",
    "                    [0,1,0],\n",
    "                    [1,0,0],\n",
    "                    [1,1,1],\n",
    "                    [0,0,0]), dtype=float)\n",
    "\n",
    "# target\n",
    "target = np.array(([0],[1],[1],[1],[1],[0],[0]), dtype=float)"
   ]
  },
  {
   "cell_type": "code",
   "execution_count": 3,
   "metadata": {},
   "outputs": [],
   "source": [
    "class NeuralNetwork:\n",
    "    \n",
    "    def __init__(self):\n",
    "        # inputs, hidden, output per spec above\n",
    "        self.inputs = 3\n",
    "        self.hiddenNodes = 4\n",
    "        self.outputNodes = 1\n",
    "        \n",
    "        # initialize weights for input -> hidden which is 3 x 4 array\n",
    "        self.weights_one = np.random.randn(self.inputs, self.hiddenNodes)\n",
    "        # initialize weights for hidden -> output which is 4 x 1 array\n",
    "        self.weights_two = np.random.randn(self.hiddenNodes, self.outputNodes)\n",
    "        \n",
    "    # sigmoid function \n",
    "    def sigmoid(self, s):\n",
    "        return 1 / (1+np.exp(-s))\n",
    "    \n",
    "    # derivative of sigmoid helper\n",
    "    def derivative(self, s):\n",
    "        sx = self.sigmoid(s)\n",
    "        return sx * (1-sx)\n",
    "    \n",
    "    def feed_forward(self, X):\n",
    "        \"\"\"\n",
    "        Calculate NN inference using feed forward\n",
    "        \"\"\"\n",
    "        # weighted sum\n",
    "        self.hidden_sum = np.dot(X, self.weights_one)\n",
    "        \n",
    "        # activate\n",
    "        self.activated_hidden = self.sigmoid(self.hidden_sum)\n",
    "        \n",
    "        # weighted sum of activated hidden which output will use\n",
    "        self.output_sum = np.dot(self.activated_hidden, self.weights_two)\n",
    "        \n",
    "        # final activation of output (predictions)\n",
    "        self.activated_output = self.sigmoid(self.output_sum)\n",
    "        \n",
    "        return self.activated_output\n",
    "    \n",
    "    def backward(self, X, y, o):\n",
    "        \"\"\"\n",
    "        Back prop thru with errors and make adjustments\n",
    "        \"\"\"\n",
    "        # absolute error\n",
    "        self.o_error = y - o\n",
    "        # partial derivative of error \n",
    "        self.o_delta = self.o_error * self.derivative(o)\n",
    "        # z2 error: amount output layer weights were off by \n",
    "        self.z2_error = self.o_delta.dot(self.weights_two.T)\n",
    "        \n",
    "        # z2 delta\n",
    "        self.z2_delta = self.z2_error*self.derivative(self.activated_hidden)\n",
    "        \n",
    "        # adjust weights by the deltas\n",
    "        self.weights_one += X.T.dot(self.z2_delta)\n",
    "        self.weights_two += self.activated_hidden.T.dot(self.o_delta)\n",
    "    \n",
    "    def train(self, X, y):\n",
    "        o = self.feed_forward(X)\n",
    "        self.backward(X, y, o)"
   ]
  },
  {
   "cell_type": "code",
   "execution_count": 4,
   "metadata": {},
   "outputs": [],
   "source": [
    "nn = NeuralNetwork()\n",
    "\n",
    "nn.train(features, target)"
   ]
  },
  {
   "cell_type": "code",
   "execution_count": 5,
   "metadata": {},
   "outputs": [
    {
     "output_type": "execute_result",
     "data": {
      "text/plain": "(array([[-0.33152462],\n        [ 0.63932367],\n        [ 0.67040632],\n        [ 0.64016601],\n        [ 0.70949561],\n        [-0.35699619],\n        [-0.29895026]]),\n array([[-0.08064489],\n        [ 0.15474358],\n        [ 0.16313102],\n        [ 0.15497072],\n        [ 0.17368365],\n        [-0.08646476],\n        [-0.07309228]]),\n array([[ 0.04337892,  0.09434668,  0.02372365, -0.0239817 ],\n        [-0.08323664, -0.18103493, -0.04552157,  0.04601673],\n        [-0.08774825, -0.19084742, -0.04798894,  0.04851094],\n        [-0.08335882, -0.18130067, -0.04558839,  0.04608428],\n        [-0.09342451, -0.20319297, -0.05109325,  0.05164902],\n        [ 0.04650943,  0.10115536,  0.0254357 , -0.02571238],\n        [ 0.03931637,  0.08551086,  0.02150186, -0.02173575]]),\n array([[ 0.01010649,  0.02330688,  0.00497042, -0.00585168],\n        [-0.01861877, -0.04522898, -0.00914171,  0.01097076],\n        [-0.02104425, -0.04706346, -0.0100532 ,  0.01208566],\n        [-0.01882932, -0.04502951, -0.00983176,  0.0104447 ],\n        [-0.02254777, -0.04748738, -0.01200547,  0.01274653],\n        [ 0.01077803,  0.02526918,  0.00510781, -0.00637257],\n        [ 0.00923949,  0.02009537,  0.00505302, -0.00510798]]))"
     },
     "metadata": {},
     "execution_count": 5
    }
   ],
   "source": [
    "nn.o_error, nn.o_delta, nn.z2_error, nn.z2_delta # one iteration's numbers"
   ]
  },
  {
   "cell_type": "code",
   "execution_count": 6,
   "metadata": {},
   "outputs": [
    {
     "output_type": "stream",
     "name": "stdout",
     "text": "Input: \n [[0. 0. 1.]\n [0. 1. 1.]\n [1. 0. 1.]\n [0. 1. 0.]\n [1. 0. 0.]\n [1. 1. 1.]\n [0. 0. 0.]]\nOutput: \n [[0.]\n [1.]\n [1.]\n [1.]\n [1.]\n [0.]\n [0.]]\nPredicted Output \n [[3.65132266e-04]\n [9.39781541e-01]\n [9.40944735e-01]\n [9.41422423e-01]\n [9.40060246e-01]\n [1.01162955e-01]\n [6.99311268e-02]]\nLoss: \n 0.004180333296546095\nInput: \n [[0. 0. 1.]\n [0. 1. 1.]\n [1. 0. 1.]\n [0. 1. 0.]\n [1. 0. 0.]\n [1. 1. 1.]\n [0. 0. 0.]]\nOutput: \n [[0.]\n [1.]\n [1.]\n [1.]\n [1.]\n [0.]\n [0.]]\nPredicted Output \n [[2.85772696e-05]\n [9.73016716e-01]\n [9.73508312e-01]\n [9.73642992e-01]\n [9.73122500e-01]\n [4.47615407e-02]\n [2.97172223e-02]]\nLoss: \n 0.0008191012306419126\nInput: \n [[0. 0. 1.]\n [0. 1. 1.]\n [1. 0. 1.]\n [0. 1. 0.]\n [1. 0. 0.]\n [1. 1. 1.]\n [0. 0. 0.]]\nOutput: \n [[0.]\n [1.]\n [1.]\n [1.]\n [1.]\n [0.]\n [0.]]\nPredicted Output \n [[8.26444789e-06]\n [9.82178481e-01]\n [9.82466571e-01]\n [9.82532042e-01]\n [9.82238172e-01]\n [2.95123983e-02]\n [1.90513958e-02]]\nLoss: \n 0.0003542253076457063\nInput: \n [[0. 0. 1.]\n [0. 1. 1.]\n [1. 0. 1.]\n [0. 1. 0.]\n [1. 0. 0.]\n [1. 1. 1.]\n [0. 0. 0.]]\nOutput: \n [[0.]\n [1.]\n [1.]\n [1.]\n [1.]\n [0.]\n [0.]]\nPredicted Output \n [[3.59907829e-06]\n [9.86587256e-01]\n [9.86768950e-01]\n [9.86807201e-01]\n [9.86626245e-01]\n [2.22182036e-02]\n [1.40684382e-02]]\nLoss: \n 0.00019991988154512274\nInput: \n [[0. 0. 1.]\n [0. 1. 1.]\n [1. 0. 1.]\n [0. 1. 0.]\n [1. 0. 0.]\n [1. 1. 1.]\n [0. 0. 0.]]\nOutput: \n [[0.]\n [1.]\n [1.]\n [1.]\n [1.]\n [0.]\n [0.]]\nPredicted Output \n [[1.92032445e-06]\n [9.89204196e-01]\n [9.89323840e-01]\n [9.89348420e-01]\n [9.89231751e-01]\n [1.78971688e-02]\n [1.11751265e-02]]\nLoss: \n 0.0001293047480787336\nInput: \n [[0. 0. 1.]\n [0. 1. 1.]\n [1. 0. 1.]\n [0. 1. 0.]\n [1. 0. 0.]\n [1. 1. 1.]\n [0. 0. 0.]]\nOutput: \n [[0.]\n [1.]\n [1.]\n [1.]\n [1.]\n [0.]\n [0.]]\nPredicted Output \n [[1.15631535e-06]\n [9.90945881e-01]\n [9.91026510e-01]\n [9.91043234e-01]\n [9.90966340e-01]\n [1.50227439e-02]\n [9.28244116e-03]]\nLoss: \n 9.088254419959648e-05\nInput: \n [[0. 0. 1.]\n [0. 1. 1.]\n [1. 0. 1.]\n [0. 1. 0.]\n [1. 0. 0.]\n [1. 1. 1.]\n [0. 0. 0.]]\nOutput: \n [[0.]\n [1.]\n [1.]\n [1.]\n [1.]\n [0.]\n [0.]]\nPredicted Output \n [[7.54292042e-07]\n [9.92192595e-01]\n [9.92247344e-01]\n [9.92259150e-01]\n [9.92208309e-01]\n [1.29648542e-02]\n [7.94643493e-03]]\nLoss: \n 6.756053336684481e-05\nInput: \n [[0. 0. 1.]\n [0. 1. 1.]\n [1. 0. 1.]\n [0. 1. 0.]\n [1. 0. 0.]\n [1. 1. 1.]\n [0. 0. 0.]]\nOutput: \n [[0.]\n [1.]\n [1.]\n [1.]\n [1.]\n [0.]\n [0.]]\nPredicted Output \n [[5.20829707e-07]\n [9.93131298e-01]\n [9.93168193e-01]\n [9.93176735e-01]\n [9.93143670e-01]\n [1.14146383e-02]\n [6.95206776e-03]]\nLoss: \n 5.2292010783216354e-05\nInput: \n [[0. 0. 1.]\n [0. 1. 1.]\n [1. 0. 1.]\n [0. 1. 0.]\n [1. 0. 0.]\n [1. 1. 1.]\n [0. 0. 0.]]\nOutput: \n [[0.]\n [1.]\n [1.]\n [1.]\n [1.]\n [0.]\n [0.]]\nPredicted Output \n [[3.75240168e-07]\n [9.93864884e-01]\n [9.93889099e-01]\n [9.93895378e-01]\n [9.93874810e-01]\n [1.02024015e-02]\n [6.18250098e-03]]\nLoss: \n 4.172563402532242e-05\nInput: \n [[0. 0. 1.]\n [0. 1. 1.]\n [1. 0. 1.]\n [0. 1. 0.]\n [1. 0. 0.]\n [1. 1. 1.]\n [0. 0. 0.]]\nOutput: \n [[0.]\n [1.]\n [1.]\n [1.]\n [1.]\n [0.]\n [0.]]\nPredicted Output \n [[2.79422720e-07]\n [9.94454768e-01]\n [9.94469775e-01]\n [9.94474435e-01]\n [9.94462850e-01]\n [9.22695815e-03]\n [5.56878125e-03]]\nLoss: \n 3.4096138247289776e-05\n"
    }
   ],
   "source": [
    "for i in range(10000):\n",
    "    if ((i+1) % 1000 == 0):\n",
    "        print('Input: \\n', features)\n",
    "        print('Output: \\n', target)\n",
    "        print('Predicted Output \\n', str(nn.feed_forward(features)))\n",
    "        print(\"Loss: \\n\", str(np.mean(np.square(target - nn.feed_forward(features)))))\n",
    "    \n",
    "    nn.train(features, target)"
   ]
  },
  {
   "cell_type": "markdown",
   "metadata": {
    "colab_type": "text",
    "id": "8b-r70o8p2Dm"
   },
   "source": [
    "## Try building/training a more complex MLP on a bigger dataset.\n",
    "\n",
    "Use the [MNIST dataset](http://yann.lecun.com/exdb/mnist/) to build the canonical handwriting digit recognizer and see what kind of accuracy you can achieve. \n",
    "\n",
    "If you need inspiration, the Internet is chalk-full of tutorials, but I want you to see how far you can get on your own first. I've linked to the original MNIST dataset above but it will probably be easier to download data through a neural network library. If you reference outside resources make sure you understand every line of code that you're using from other sources, and share with your fellow students helpful resources that you find.\n",
    "\n",
    "\n",
    "### Parts\n",
    "1. Gathering & Transforming the Data\n",
    "2. Making MNIST a Binary Problem\n",
    "3. Estimating your Neural Network (the part you focus on)"
   ]
  },
  {
   "cell_type": "markdown",
   "metadata": {},
   "source": [
    "### Gathering the Data \n",
    "\n",
    "`keras` has a handy method to pull the mnist dataset for you. You'll notice that each observation is a 28x28 arrary which represents an image. Although most Neural Network frameworks can handle higher dimensional data, that is more overhead than necessary for us. We need to flatten the image to one long row which will be 784 values (28X28). Basically, you will be appending each row to one another to make on really long row. "
   ]
  },
  {
   "cell_type": "code",
   "execution_count": 39,
   "metadata": {},
   "outputs": [],
   "source": [
    "import numpy as np\n",
    "from tensorflow.keras.datasets import mnist\n",
    "from tensorflow.keras.utils import to_categorical"
   ]
  },
  {
   "cell_type": "code",
   "execution_count": 2,
   "metadata": {},
   "outputs": [],
   "source": [
    "# input image dimensions\n",
    "img_rows, img_cols = 28, 28"
   ]
  },
  {
   "cell_type": "code",
   "execution_count": 31,
   "metadata": {},
   "outputs": [],
   "source": [
    "# the data, split between train and test sets\n",
    "(x_train, y_train), (x_test, y_test) = mnist.load_data()"
   ]
  },
  {
   "cell_type": "code",
   "execution_count": 32,
   "metadata": {},
   "outputs": [],
   "source": [
    "x_train = x_train.reshape(x_train.shape[0], img_rows * img_cols)\n",
    "x_test = x_test.reshape(x_test.shape[0], img_rows * img_cols)\n",
    "\n",
    "# Normalize Our Data\n",
    "x_train = x_train / 255\n",
    "x_test = x_test / 255"
   ]
  },
  {
   "cell_type": "code",
   "execution_count": 16,
   "metadata": {},
   "outputs": [
    {
     "data": {
      "text/plain": [
       "(60000, 784)"
      ]
     },
     "execution_count": 16,
     "metadata": {},
     "output_type": "execute_result"
    }
   ],
   "source": [
    "# Now the data should be in a format you're more familiar with\n",
    "x_train.shape"
   ]
  },
  {
   "cell_type": "markdown",
   "metadata": {},
   "source": [
    "### Making MNIST a Binary Problem \n",
    "MNIST is multiclass classification problem; however we haven't covered all the necessary techniques to handle this yet. You would need to one-hot encode the target, use a different loss metric, and use softmax activations for the last layer. This is all stuff we'll cover later this week, but let us simplify the problem for now: Zero or all else."
   ]
  },
  {
   "cell_type": "code",
   "execution_count": 33,
   "metadata": {},
   "outputs": [],
   "source": [
    "import numpy as np\n",
    "\n",
    "y_temp = np.zeros(y_train.shape)\n",
    "y_temp[np.where(y_train == 0.0)[0]] = 1\n",
    "y_train = y_temp\n",
    "\n",
    "y_temp = np.zeros(y_test.shape)\n",
    "y_temp[np.where(y_test == 0.0)[0]] = 1\n",
    "y_test = y_temp"
   ]
  },
  {
   "cell_type": "code",
   "execution_count": 40,
   "metadata": {},
   "outputs": [
    {
     "data": {
      "text/plain": [
       "array([0., 1., 0., ..., 0., 0., 0.])"
      ]
     },
     "execution_count": 40,
     "metadata": {},
     "output_type": "execute_result"
    }
   ],
   "source": [
    "# A Nice Binary target for ya to work with\n",
    "y_train"
   ]
  },
  {
   "cell_type": "markdown",
   "metadata": {},
   "source": [
    "### Estimating Your `net"
   ]
  },
  {
   "cell_type": "code",
   "execution_count": null,
   "metadata": {
    "colab": {},
    "colab_type": "code",
    "id": "5MOPtYdk1HgA"
   },
   "outputs": [],
   "source": [
    "##### Your Code Here #####\n",
    "\n"
   ]
  },
  {
   "cell_type": "markdown",
   "metadata": {
    "colab_type": "text",
    "id": "FwlRJSfBlCvy"
   },
   "source": [
    "## Stretch Goals: \n",
    "\n",
    "- Make MNIST a multiclass problem using cross entropy & soft-max\n",
    "- Implement Cross Validation model evaluation on your MNIST implementation \n",
    "- Research different [Gradient Descent Based Optimizers](https://keras.io/optimizers/)\n",
    " - [Siraj Raval the evolution of gradient descent](https://www.youtube.com/watch?v=nhqo0u1a6fw)\n",
    "- Build a housing price estimation model using a neural network. How does its accuracy compare with the regression models that we fit earlier on in class?"
   ]
  }
 ],
 "metadata": {
  "colab": {
   "name": "LS_DS_432_Backprop_Assignment.ipynb",
   "provenance": [],
   "version": "0.3.2"
  },
  "kernelspec": {
   "display_name": "Python 3",
   "language": "python",
   "name": "python3"
  },
  "language_info": {
   "codemirror_mode": {
    "name": "ipython",
    "version": 3
   },
   "file_extension": ".py",
   "mimetype": "text/x-python",
   "name": "python",
   "nbconvert_exporter": "python",
   "pygments_lexer": "ipython3",
   "version": "3.7.4-final"
  }
 },
 "nbformat": 4,
 "nbformat_minor": 4
}